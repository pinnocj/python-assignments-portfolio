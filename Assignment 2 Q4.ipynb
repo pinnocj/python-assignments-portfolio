{
 "cells": [
  {
   "cell_type": "code",
   "execution_count": 1,
   "id": "7fb608e0-def3-4398-90e7-625f1fa09fca",
   "metadata": {
    "editable": true,
    "slideshow": {
     "slide_type": ""
    },
    "tags": []
   },
   "outputs": [],
   "source": [
    "import numpy as np\n",
    "def bisection (f,a,b):\n",
    "    f = (e**x*ln(x))\n",
    "    a = 0\n",
    "    b = 1\n",
    "    m = (a+b)/2\n",
    "    while b-a >= 0.0000000001:\n",
    "        if f(a)*f(m) < 0:\n",
    "            b = m\n",
    "        elif f(b)*f(m) < 0:\n",
    "            a = m\n",
    "        elif f(m) == 0:\n",
    "            print (\"solution found\")\n",
    "            return m\n",
    "        else:\n",
    "            print (\"solution not found\")\n",
    "            return None\n",
    "    return (a+b)/2\n",
    "   \n",
    "    print (bisection (f,a,b))\n",
    "    "
   ]
  },
  {
   "cell_type": "code",
   "execution_count": null,
   "id": "231301f8-f126-4e2e-9512-0faf887c8219",
   "metadata": {},
   "outputs": [],
   "source": []
  }
 ],
 "metadata": {
  "kernelspec": {
   "display_name": "Python 3 (ipykernel)",
   "language": "python",
   "name": "python3"
  },
  "language_info": {
   "codemirror_mode": {
    "name": "ipython",
    "version": 3
   },
   "file_extension": ".py",
   "mimetype": "text/x-python",
   "name": "python",
   "nbconvert_exporter": "python",
   "pygments_lexer": "ipython3",
   "version": "3.11.4"
  }
 },
 "nbformat": 4,
 "nbformat_minor": 5
}
