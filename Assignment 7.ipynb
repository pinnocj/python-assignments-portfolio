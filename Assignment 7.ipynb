{
 "cells": [
  {
   "cell_type": "code",
   "execution_count": 1,
   "id": "139bf0a8-7f8d-4ca9-93fa-2186f6f1a82a",
   "metadata": {},
   "outputs": [],
   "source": [
    "import numpy as np\n",
    "from scipy.special import gamma\n",
    "\n",
    "test_scores = [92.64,79.00,84.79,97.41,93.68,65.23,84.50,73.49,73.97,79.11]\n",
    "sample_size = len(test_scores)\n",
    "nu = 0.95\n",
    "def mean_stdev_scores (test_scores):\n",
    "    for i in test_scores:\n",
    "        mean = test_scores/sample_size\n",
    "        stdev = (1/sample_size)*np.sqrt(sum(test_scores-mean)**2)\n",
    "        \n",
    "    return mean\n",
    "    return stdev\n",
    "\n",
    "def initial_t (mean, stdev):\n",
    "    for i in test_scores:\n",
    "        t_0 = ((mean-nu)/(stdev/sample_size))\n",
    "    return t_0\n",
    "\n",
    "\n",
    "def t_distribution_pdf(x, nu):\n",
    "    coeff = gamma((nu + 1) / 2) / (np.sqrt(nu * np.pi) * gamma(nu / 2))\n",
    "    density = coeff * (1 + x**2 / nu) ** (-0.5 * (nu + 1))\n",
    "    return density\n",
    "    \n",
    "def find_t_star(prob, nu, x_start, x_end, num_points):\n",
    "    while 0<= prob <= 1 :\n",
    "        x_start = 0\n",
    "        x_end = 20\n",
    "        num_points = 10000\n",
    "        x = np.linspace(x_start, x_end, num_points)\n",
    "        y = t_distribution_pdf(x, nu)\n",
    "        cdf = np.cumsum(y) * (x[1] - x[0])\n",
    "        target_half_prob = prob / 2\n",
    "        index = np.where(cdf >= target_half_prob)[0][0]\n",
    "        return x\n",
    "\n",
    "def probability (x, nu, find_t_star):\n",
    "    if -x <= t_0 <= x:\n",
    "        return true \n",
    "    else:\n",
    "        return false "
   ]
  },
  {
   "cell_type": "code",
   "execution_count": null,
   "id": "46f65dbc-4e12-4f12-a5b0-30066c782ca5",
   "metadata": {},
   "outputs": [],
   "source": []
  }
 ],
 "metadata": {
  "kernelspec": {
   "display_name": "Python 3 (ipykernel)",
   "language": "python",
   "name": "python3"
  },
  "language_info": {
   "codemirror_mode": {
    "name": "ipython",
    "version": 3
   },
   "file_extension": ".py",
   "mimetype": "text/x-python",
   "name": "python",
   "nbconvert_exporter": "python",
   "pygments_lexer": "ipython3",
   "version": "3.11.4"
  }
 },
 "nbformat": 4,
 "nbformat_minor": 5
}
