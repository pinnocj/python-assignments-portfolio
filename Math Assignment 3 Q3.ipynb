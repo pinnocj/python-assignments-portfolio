{
 "cells": [
  {
   "cell_type": "code",
   "execution_count": 6,
   "id": "379a2ddc-5304-4c86-9985-f1832c3305bc",
   "metadata": {},
   "outputs": [
    {
     "name": "stdout",
     "output_type": "stream",
     "text": [
      "0.7843981633974483\n",
      "0.7863981633974483\n"
     ]
    }
   ],
   "source": [
    "import numpy as np\n",
    "def f(x):\n",
    "    return np.sin(x)\n",
    "c= np.pi/4\n",
    "E= 0.05\n",
    "n=100\n",
    "x1=c\n",
    "x2=c\n",
    "delx=10**(-8)\n",
    "d=0.001\n",
    "def fprime(x):\n",
    "   return (f(x+delx)-f(x-delx))/(2*delx)\n",
    "def L(x):\n",
    "   return f(c)+fprime(c)*(x-c)\n",
    "for i in range (n):\n",
    "    x1= x1-d\n",
    "    if abs(f(x1)-L(x1)) <= E:\n",
    "        print (x1)\n",
    "        break\n",
    "else: \n",
    "    print (\"No x1 value could be found\")\n",
    "    \n",
    "for i in range(n):\n",
    "    x2= x2+d\n",
    "    if abs(f(x2)-L(x2)) <= E:\n",
    "        print (x2)\n",
    "        break \n",
    "else:\n",
    "    print (\"No x2 value could be found\")  \n"
   ]
  }
 ],
 "metadata": {
  "kernelspec": {
   "display_name": "Python 3 (ipykernel)",
   "language": "python",
   "name": "python3"
  },
  "language_info": {
   "codemirror_mode": {
    "name": "ipython",
    "version": 3
   },
   "file_extension": ".py",
   "mimetype": "text/x-python",
   "name": "python",
   "nbconvert_exporter": "python",
   "pygments_lexer": "ipython3",
   "version": "3.11.4"
  }
 },
 "nbformat": 4,
 "nbformat_minor": 5
}
