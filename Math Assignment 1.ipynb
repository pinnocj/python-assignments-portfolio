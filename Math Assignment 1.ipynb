{
 "cells": [
  {
   "cell_type": "code",
   "execution_count": 52,
   "id": "e3dbeda1-a759-474c-8a2b-f132bc7ce1e1",
   "metadata": {},
   "outputs": [],
   "source": [
    "def lucy(x): \n",
    "    a = 0\n",
    "    n = 0\n",
    "    error_bound = x**(2*n+1)/(2*n+1)\n",
    "    while error_bound >= 0.0001:\n",
    "        error_bound = x**(2*n+1)/(2*n+1)\n",
    "        n+= 1\n",
    "    for i in range (n):\n",
    "        a+= ((-1)**i*x**(2*i+1))/(2*i+1)\n",
    "    nn = 2*n + 1\n",
    "    if 0 <= x <= 1:\n",
    "        return (a, nn, error_bound)\n",
    "    else: \n",
    "        return \"Error!\""
   ]
  },
  {
   "cell_type": "code",
   "execution_count": 53,
   "id": "e383011c-8364-49c7-80ac-7d1d3da1da80",
   "metadata": {},
   "outputs": [
    {
     "name": "stdout",
     "output_type": "stream",
     "text": [
      "Error!\n",
      "(0, 1, 0.0)\n",
      "(0.24497825985863092, 9, 8.719308035714285e-06)\n",
      "(0.46363988658910527, 13, 4.438920454545455e-05)\n",
      "(0.6434813024840855, 25, 5.816761029294689e-05)\n",
      "(0.7854481533989477, 10003, 9.999000099990002e-05)\n"
     ]
    }
   ],
   "source": [
    "print (lucy(-1))\n",
    "print (lucy(0))\n",
    "print (lucy(0.25))\n",
    "print (lucy(0.5))\n",
    "print (lucy(0.75))\n",
    "print (lucy(1))"
   ]
  },
  {
   "cell_type": "code",
   "execution_count": null,
   "id": "d6c638bb-948e-4bc2-af46-3963d2837d2f",
   "metadata": {},
   "outputs": [],
   "source": []
  }
 ],
 "metadata": {
  "kernelspec": {
   "display_name": "Python 3 (ipykernel)",
   "language": "python",
   "name": "python3"
  },
  "language_info": {
   "codemirror_mode": {
    "name": "ipython",
    "version": 3
   },
   "file_extension": ".py",
   "mimetype": "text/x-python",
   "name": "python",
   "nbconvert_exporter": "python",
   "pygments_lexer": "ipython3",
   "version": "3.11.4"
  }
 },
 "nbformat": 4,
 "nbformat_minor": 5
}
